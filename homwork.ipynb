{
 "cells": [
  {
   "cell_type": "code",
   "execution_count": 1,
   "metadata": {},
   "outputs": [
    {
     "name": "stdout",
     "output_type": "stream",
     "text": [
      "原價:130000,實付金額是:104000.0\n"
     ]
    }
   ],
   "source": [
    "'''\n",
    "輸入顧客購買金額，若金額在\n",
    "100000元打8折. \n",
    "50000打85折. \n",
    "30000打9折. \n",
    "10000打95折. \n",
    "\n",
    "請輸入購買金額:130000\n",
    "實付金額是: 104000.0 元\n",
    "'''\n",
    "購買金額 = eval(input(\"請輸入購買金額:\"))\n",
    "if 購買金額 >= 100000:\n",
    "   實付金額=購買金額*0.8\n",
    "elif 購買金額 >= 50000:\n",
    "  實付金額=購買金額*0.85\n",
    "elif 購買金額 >= 30000:\n",
    "   實付金額=購買金額*0.9\n",
    "elif 購買金額 >= 10000:\n",
    "   實付金額=購買金額*0.95\n",
    "else:\n",
    "   實付金額=購買金額\n",
    "print(f\"原價:{購買金額},實付金額是:{實付金額:.1f}\")\n"
   ]
  },
  {
   "cell_type": "code",
   "execution_count": 2,
   "metadata": {},
   "outputs": [
    {
     "name": "stdout",
     "output_type": "stream",
     "text": [
      "虛數\n"
     ]
    }
   ],
   "source": [
    "'''\n",
    "巢狀選擇\n",
    "• 如果x不是負數，則傳回值為 x ** (1 / y)。\n",
    "• 如果x是負數而且y為偶數，則傳回值為\"虛數\"。\n",
    "• 如果x是負數而且y為奇數，則傳回值為 -(-x) ** (1 / y)。\n",
    "\n",
    "'''\n",
    "\n",
    "x=eval(input(\"請輸入x:\"))\n",
    "y=eval(input(\"請輸入y:\"))\n",
    "if x>0:\n",
    "   print(x**(1/y))\n",
    "else:\n",
    "   if x<0 and y%2==0:\n",
    "     print(\"虛數\")\n",
    "   else:\n",
    "     print(-(-x)**(1/y))\n",
    "\n"
   ]
  }
 ],
 "metadata": {
  "kernelspec": {
   "display_name": "Python 3.10.8 64-bit",
   "language": "python",
   "name": "python3"
  },
  "language_info": {
   "codemirror_mode": {
    "name": "ipython",
    "version": 3
   },
   "file_extension": ".py",
   "mimetype": "text/x-python",
   "name": "python",
   "nbconvert_exporter": "python",
   "pygments_lexer": "ipython3",
   "version": "3.10.8"
  },
  "orig_nbformat": 4,
  "vscode": {
   "interpreter": {
    "hash": "2cecb92da02c8b98f4101d22276476b1c28eb527ceb2bbde7375dd542609dce3"
   }
  }
 },
 "nbformat": 4,
 "nbformat_minor": 2
}
